{
 "cells": [
  {
   "cell_type": "code",
   "execution_count": 1,
   "id": "28f0ec5e-6b55-47e9-ba93-f31d30c423e2",
   "metadata": {
    "tags": []
   },
   "outputs": [],
   "source": [
    "import numpy as np\n",
    "import pickle\n",
    "import anndata as ad\n",
    "from sklearn.model_selection import train_test_split\n",
    "import warnings\n",
    "\n",
    "from data.data_process import data_process\n",
    "from model.deconv_model import MBdeconv\n",
    "from model.utils import *\n",
    "\n",
    "seed = 42\n",
    "torch.manual_seed(seed)\n",
    "np.random.seed(seed)\n",
    "\n",
    "# 在使用GPU时，还可以设置以下代码来确保结果的一致性\n",
    "torch.backends.cudnn.deterministic = True\n",
    "torch.backends.cudnn.benchmark = False\n",
    "warnings.filterwarnings(\"ignore\")"
   ]
  },
  {
   "cell_type": "code",
   "execution_count": 2,
   "id": "36b4d2dc-f74a-409e-9f6d-8b0fef2f3341",
   "metadata": {
    "tags": []
   },
   "outputs": [
    {
     "data": {
      "text/plain": [
       "CellType\n",
       "B                 143\n",
       "GMP               140\n",
       "CMP               134\n",
       "Myeloid           130\n",
       "HSC (catulin+)    127\n",
       "Erythroid         124\n",
       "CLP               117\n",
       "MEP               116\n",
       "T                 116\n",
       "HSC (catulin-)    114\n",
       "MPP                92\n",
       "HPC                75\n",
       "Name: count, dtype: int64"
      ]
     },
     "execution_count": 2,
     "metadata": {},
     "output_type": "execute_result"
    }
   ],
   "source": [
    "data_file = 'data/bone_marrow_mb/blood.h5ad'\n",
    "data_h5ad = ad.read_h5ad(data_file)\n",
    "data_h5ad.obs['CellType'].value_counts()"
   ]
  },
  {
   "cell_type": "code",
   "execution_count": 3,
   "id": "c7d58ae2-6f78-4318-87aa-31d3cdc44a9a",
   "metadata": {
    "tags": []
   },
   "outputs": [],
   "source": [
    "data_h5ad.obs['CellType'] = data_h5ad.obs['CellType'].replace({'HSC (catulin+)': 'HSC', 'HSC (catulin-)': 'HSC'})"
   ]
  },
  {
   "cell_type": "code",
   "execution_count": 4,
   "id": "b554795c-3f53-42a4-a417-7ad60e388acf",
   "metadata": {
    "tags": []
   },
   "outputs": [],
   "source": [
    "type_list = ['Erythroid', 'T', 'B', 'GMP', 'Myeloid']\n",
    "noise = ['HSC']"
   ]
  },
  {
   "cell_type": "code",
   "execution_count": 5,
   "id": "9cef95ef-2c61-45d5-b207-9af89ab9901f",
   "metadata": {
    "tags": []
   },
   "outputs": [
    {
     "name": "stdout",
     "output_type": "stream",
     "text": [
      "Loading data...\n",
      "selected cells: View of AnnData object with n_obs × n_vars = 653 × 107\n",
      "    obs: 'CellType'\n"
     ]
    }
   ],
   "source": [
    "print(\"Loading data...\")\n",
    "# extract noise\n",
    "if noise:\n",
    "    data_h5ad_noise = data_h5ad[data_h5ad.obs['CellType'].isin(noise)]\n",
    "    data_h5ad_noise.obs.reset_index(drop=True, inplace=True)\n",
    "# extract selected cells \n",
    "data_h5ad = data_h5ad[data_h5ad.obs['CellType'].isin(type_list)]\n",
    "data_h5ad.obs.reset_index(drop=True, inplace=True)\n",
    "print('selected cells:', data_h5ad)"
   ]
  },
  {
   "cell_type": "code",
   "execution_count": 6,
   "id": "d1e5d1b9-ae3b-4374-a125-913bee9c92a7",
   "metadata": {
    "tags": []
   },
   "outputs": [
    {
     "name": "stdout",
     "output_type": "stream",
     "text": [
      "Selected cells split into train and test datasets.\n"
     ]
    }
   ],
   "source": [
    "train_idx = []\n",
    "test_idx = []\n",
    "\n",
    "# Selected cells split into train and test datasets\n",
    "for cell_type in data_h5ad.obs['CellType'].unique():\n",
    "    current_idx = data_h5ad.obs[data_h5ad.obs['CellType'] == cell_type].index.tolist()\n",
    "    train_i, test_i = train_test_split(current_idx, test_size=0.5, random_state=42)\n",
    "    train_idx.extend(train_i)\n",
    "    test_idx.extend(test_i)\n",
    "\n",
    "print(\"Selected cells split into train and test datasets.\")\n",
    "train_data = data_h5ad[train_idx]\n",
    "test_data = data_h5ad[test_idx]"
   ]
  },
  {
   "cell_type": "code",
   "execution_count": 7,
   "id": "458ffedb-1115-4803-a99f-a746eae687dc",
   "metadata": {
    "tags": []
   },
   "outputs": [],
   "source": [
    "dp = data_process(type_list, tissue_name='bone_marrow_mb', \n",
    "                  test_sample_num=1000, sample_size=30, num_artificial_cells=70)"
   ]
  },
  {
   "cell_type": "code",
   "execution_count": 8,
   "id": "d77c3704-a3be-47b2-b7af-476fdd0c36c8",
   "metadata": {
    "tags": []
   },
   "outputs": [
    {
     "name": "stdout",
     "output_type": "stream",
     "text": [
      "The data processing is complete\n"
     ]
    }
   ],
   "source": [
    "dp.fit(train_data, test_data, data_h5ad_noise)"
   ]
  },
  {
   "cell_type": "code",
   "execution_count": 9,
   "id": "bc1b95dd-108b-4563-8f28-832894d0c22f",
   "metadata": {
    "tags": []
   },
   "outputs": [],
   "source": [
    "with open(f'data/bone_marrow_mb/bone_marrow_mb{len(type_list)}cell.pkl', 'rb') as f:\n",
    "    train = pickle.load(f)\n",
    "    test = pickle.load(f)\n",
    "    test_with_noise = pickle.load(f)"
   ]
  },
  {
   "cell_type": "code",
   "execution_count": 10,
   "id": "a925034b-5ec3-497e-bf09-a7e6409cddc8",
   "metadata": {
    "tags": []
   },
   "outputs": [],
   "source": [
    "train_x_sim, train_with_noise_1, train_with_noise_2, train_y = train\n",
    "test_x_sim, test_y = test\n",
    "train_dataset = TrainCustomDataset(train_x_sim, train_with_noise_1, train_with_noise_2, train_y)\n",
    "test_dataset = TestCustomDataset(test_x_sim, test_y)\n",
    "train_dataloader = DataLoader(train_dataset, batch_size=64, shuffle=True)\n",
    "test_dataloader = DataLoader(test_dataset, batch_size=64, shuffle=False)"
   ]
  },
  {
   "cell_type": "code",
   "execution_count": 11,
   "id": "b53c91c5-f1e6-4acd-a925-a5562ebf68b8",
   "metadata": {
    "tags": []
   },
   "outputs": [],
   "source": [
    "num_MB = 107\n",
    "feat_map_w = 256\n",
    "feat_map_h = 10\n",
    "num_cell_type = len(type_list)\n",
    "epoches = 171\n",
    "Alpha = 1\n",
    "Beta = 1"
   ]
  },
  {
   "cell_type": "code",
   "execution_count": 12,
   "id": "1b6698b7-d5c0-49a6-adce-2ccb33f4258c",
   "metadata": {
    "tags": []
   },
   "outputs": [],
   "source": [
    "model = MBdeconv(num_MB, feat_map_w, feat_map_h, num_cell_type, epoches, Alpha, Beta, train_dataloader, test_dataloader)"
   ]
  },
  {
   "cell_type": "code",
   "execution_count": 13,
   "id": "91214bd4-ff83-4423-b359-927763062740",
   "metadata": {
    "tags": []
   },
   "outputs": [],
   "source": [
    "device = torch.device('cuda')\n",
    "if model.gpu_available:\n",
    "    model = model.to(model.gpu)"
   ]
  },
  {
   "cell_type": "code",
   "execution_count": 14,
   "id": "408f02e0-7dc3-4686-a053-6407552cc0d9",
   "metadata": {
    "tags": []
   },
   "outputs": [
    {
     "name": "stdout",
     "output_type": "stream",
     "text": [
      "[2.42s] ep 0, loss 4.1324\n",
      "[47.07s] ep 20, loss 3.4455\n",
      "[94.34s] ep 40, loss 2.8763\n",
      "[135.50s] ep 60, loss 2.8077\n",
      "[177.47s] ep 80, loss 2.7241\n",
      "[225.82s] ep 100, loss 2.6508\n",
      "[268.03s] ep 120, loss 2.6315\n",
      "[315.42s] ep 140, loss 2.6124\n",
      "[360.71s] ep 160, loss 2.6128\n"
     ]
    }
   ],
   "source": [
    "loss1_list, loss2_list, nce_loss_list = model.train_model()"
   ]
  },
  {
   "cell_type": "code",
   "execution_count": 15,
   "id": "b2efb4ef-6bb2-4ddf-bef4-474f68f9072d",
   "metadata": {
    "tags": []
   },
   "outputs": [
    {
     "data": {
      "text/plain": [
       "(0.7818052133984204, 0.06848808161221741, 0.7977945635618106)"
      ]
     },
     "execution_count": 15,
     "metadata": {},
     "output_type": "execute_result"
    }
   ],
   "source": [
    "model_test = MBdeconv(num_MB, feat_map_w, feat_map_h, num_cell_type, epoches, Alpha, Beta, train_dataloader, test_dataloader)\n",
    "model_test.load_state_dict(torch.load('save_models/107/last.pt'))\n",
    "device = torch.device(\"cuda\" if torch.cuda.is_available() else \"cpu\")\n",
    "model_test.to(device)\n",
    "model_test.eval()\n",
    "CCC, RMSE, Corr = predict(test_dataloader, type_list, model_test, 'bone_marrow_mb', True)\n",
    "CCC, RMSE, Corr"
   ]
  },
  {
   "cell_type": "code",
   "execution_count": null,
   "id": "91844553-a59c-49c6-9bad-2bf5abd6d24a",
   "metadata": {},
   "outputs": [],
   "source": []
  }
 ],
 "metadata": {
  "kernelspec": {
   "display_name": "Python 3 (ipykernel)",
   "language": "python",
   "name": "python3"
  },
  "language_info": {
   "codemirror_mode": {
    "name": "ipython",
    "version": 3
   },
   "file_extension": ".py",
   "mimetype": "text/x-python",
   "name": "python",
   "nbconvert_exporter": "python",
   "pygments_lexer": "ipython3",
   "version": "3.8.10"
  }
 },
 "nbformat": 4,
 "nbformat_minor": 5
}
