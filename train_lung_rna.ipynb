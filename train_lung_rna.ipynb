{
 "cells": [
  {
   "cell_type": "code",
   "execution_count": 1,
   "id": "6a116e52-459f-4856-9b85-2cde0ca57560",
   "metadata": {
    "tags": []
   },
   "outputs": [],
   "source": [
    "import numpy as np\n",
    "import pickle\n",
    "import anndata as ad\n",
    "from sklearn.model_selection import train_test_split\n",
    "import warnings\n",
    "import copy\n",
    "\n",
    "from data.data_process import data_process\n",
    "from model.deconv_model_domain_param import MBdeconv\n",
    "from model.utils import *\n",
    "from model.stage2 import *\n",
    "\n",
    "seed = 2021\n",
    "torch.manual_seed(seed)\n",
    "np.random.seed(seed)\n",
    "\n",
    "# 在使用GPU时，还可以设置以下代码来确保结果的一致性\n",
    "torch.backends.cudnn.deterministic = True\n",
    "torch.backends.cudnn.benchmark = False\n",
    "warnings.filterwarnings(\"ignore\")"
   ]
  },
  {
   "cell_type": "code",
   "execution_count": 2,
   "id": "217f3f37-74b3-4bd3-8a1e-b025d9afc84c",
   "metadata": {
    "tags": []
   },
   "outputs": [],
   "source": [
    "type_list = ['Luminal_Macrophages', 'Type 2 alveolar', 'Fibroblasts', 'Dendritic cells']\n",
    "noise = ['Neutrophils']\n",
    "train_data_file = 'data/lung_rna/296C_train.h5ad'\n",
    "test_data_file = 'data/lung_rna/302C_test.h5ad'\n",
    "train_data = ad.read_h5ad(train_data_file)\n",
    "test_data = ad.read_h5ad(test_data_file)"
   ]
  },
  {
   "cell_type": "code",
   "execution_count": 3,
   "id": "034f0224-cebc-489a-9622-0c201ceb0a6a",
   "metadata": {
    "tags": []
   },
   "outputs": [
    {
     "name": "stdout",
     "output_type": "stream",
     "text": [
      "selected cells: View of AnnData object with n_obs × n_vars = 3601 × 3346\n",
      "    obs: 'Sample', 'Donor', 'Source', 'Location', 'CellType', 'BroadCellType'\n",
      "    var: 'highly_variable', 'means', 'dispersions', 'dispersions_norm'\n",
      "    uns: 'leiden', 'neighbors_hm', 'pca'\n",
      "    obsm: 'X_umap_hm'\n",
      "    varm: 'PCs'\n",
      "noise cells: View of AnnData object with n_obs × n_vars = 293 × 3346\n",
      "    obs: 'Sample', 'Donor', 'Source', 'Location', 'CellType', 'BroadCellType'\n",
      "    var: 'highly_variable', 'means', 'dispersions', 'dispersions_norm'\n",
      "    uns: 'leiden', 'neighbors_hm', 'pca'\n",
      "    obsm: 'X_umap_hm'\n",
      "    varm: 'PCs'\n"
     ]
    }
   ],
   "source": [
    "if noise:\n",
    "    data_h5ad_noise = test_data[test_data.obs['CellType'].isin(noise)]\n",
    "    data_h5ad_noise.obs.reset_index(drop=True, inplace=True)\n",
    "# extract selected cells \n",
    "train_data = train_data[train_data.obs['CellType'].isin(type_list)]\n",
    "train_data.obs.reset_index(drop=True, inplace=True)\n",
    "test_data = test_data[test_data.obs['CellType'].isin(type_list)]\n",
    "test_data.obs.reset_index(drop=True, inplace=True)\n",
    "print('selected cells:', train_data)\n",
    "print('noise cells:', data_h5ad_noise)"
   ]
  },
  {
   "cell_type": "code",
   "execution_count": 4,
   "id": "d24c4dc6-5868-4a50-9013-606a539a7c18",
   "metadata": {
    "tags": []
   },
   "outputs": [],
   "source": [
    "dp = data_process(type_list, train_sample_num=4000, tissue_name='lung_rna', \n",
    "                  test_sample_num=1000, sample_size=20, num_artificial_cells=20)"
   ]
  },
  {
   "cell_type": "code",
   "execution_count": 5,
   "id": "3b0ac43f-7280-4445-ba4a-72659707173d",
   "metadata": {
    "tags": []
   },
   "outputs": [
    {
     "name": "stdout",
     "output_type": "stream",
     "text": [
      "The data processing is complete\n"
     ]
    }
   ],
   "source": [
    "dp.fit(train_data, test_data, data_h5ad_noise)"
   ]
  },
  {
   "cell_type": "code",
   "execution_count": 6,
   "id": "61ac973e-4c49-4f3c-9b8c-d45c7a1fc117",
   "metadata": {
    "tags": []
   },
   "outputs": [],
   "source": [
    "with open(f'data/lung_rna/lung_rna{len(type_list)}cell.pkl', 'rb') as f:\n",
    "    train = pickle.load(f)\n",
    "    test = pickle.load(f)\n",
    "    test_with_noise = pickle.load(f)"
   ]
  },
  {
   "cell_type": "code",
   "execution_count": 7,
   "id": "c837d0a1-8d4b-4982-9826-d35b64d7cb91",
   "metadata": {
    "tags": []
   },
   "outputs": [
    {
     "name": "stdout",
     "output_type": "stream",
     "text": [
      "AnnData object with n_obs × n_vars = 4000 × 3346\n",
      "    obs: 'Luminal_Macrophages', 'Type 2 alveolar', 'Fibroblasts', 'Dendritic cells'\n",
      "    uns: 'cell_types'\n",
      "AnnData object with n_obs × n_vars = 1000 × 3346\n",
      "    obs: 'Luminal_Macrophages', 'Type 2 alveolar', 'Fibroblasts', 'Dendritic cells'\n",
      "    uns: 'cell_types'\n"
     ]
    }
   ],
   "source": [
    "train_x_sim, train_with_noise_1, train_with_noise_2, train_y = train\n",
    "test_x_sim, test_y = test\n",
    "train_dataset = TrainCustomDataset(train_x_sim, train_with_noise_1, train_with_noise_2, train_y)\n",
    "test_dataset = TestCustomDataset(test_x_sim, test_y)\n",
    "train_dataloader = DataLoader(train_dataset, batch_size=64, shuffle=True)\n",
    "test_dataloader = DataLoader(test_dataset, batch_size=64, shuffle=False)\n",
    "source_data = data2h5ad(train_x_sim, train_y, type_list)\n",
    "target_data = data2h5ad(test_x_sim, test_y, type_list)"
   ]
  },
  {
   "cell_type": "code",
   "execution_count": 8,
   "id": "882591d9-fa85-49af-a244-f2b329f37d86",
   "metadata": {
    "tags": []
   },
   "outputs": [],
   "source": [
    "num_MB = 3346\n",
    "feat_map_w = 256\n",
    "feat_map_h = 10\n",
    "num_cell_type = len(type_list)\n",
    "epoches = 42\n",
    "Alpha = 1\n",
    "Beta = 1"
   ]
  },
  {
   "cell_type": "code",
   "execution_count": 9,
   "id": "a3789eac-bf90-4278-bebc-ed11bd9aeb4b",
   "metadata": {
    "tags": []
   },
   "outputs": [
    {
     "name": "stdout",
     "output_type": "stream",
     "text": [
      "============= Epoch 01/30 in stage3 =============\n",
      "pred_loss=0.020076, disc_loss=1.386874, disc_loss_DA=1.387275\n",
      "============= Epoch 02/30 in stage3 =============\n",
      "pred_loss=0.018123, disc_loss=1.387182, disc_loss_DA=1.386503\n",
      "============= Epoch 03/30 in stage3 =============\n",
      "pred_loss=0.011915, disc_loss=1.387460, disc_loss_DA=1.386920\n",
      "============= Epoch 04/30 in stage3 =============\n",
      "pred_loss=0.007926, disc_loss=1.387383, disc_loss_DA=1.387199\n",
      "============= Epoch 05/30 in stage3 =============\n",
      "pred_loss=0.006495, disc_loss=1.387894, disc_loss_DA=1.386406\n",
      "============= Epoch 06/30 in stage3 =============\n",
      "pred_loss=0.004142, disc_loss=1.387118, disc_loss_DA=1.386634\n",
      "============= Epoch 07/30 in stage3 =============\n",
      "pred_loss=0.002711, disc_loss=1.387646, disc_loss_DA=1.385677\n",
      "============= Epoch 08/30 in stage3 =============\n",
      "pred_loss=0.002168, disc_loss=1.387485, disc_loss_DA=1.386234\n",
      "============= Epoch 09/30 in stage3 =============\n",
      "pred_loss=0.001936, disc_loss=1.387499, disc_loss_DA=1.385830\n",
      "============= Epoch 10/30 in stage3 =============\n",
      "pred_loss=0.001788, disc_loss=1.387363, disc_loss_DA=1.385986\n",
      "============= Epoch 11/30 in stage3 =============\n",
      "pred_loss=0.001733, disc_loss=1.387865, disc_loss_DA=1.385571\n",
      "============= Epoch 12/30 in stage3 =============\n",
      "pred_loss=0.001607, disc_loss=1.387741, disc_loss_DA=1.385954\n",
      "============= Epoch 13/30 in stage3 =============\n",
      "pred_loss=0.001404, disc_loss=1.386991, disc_loss_DA=1.385639\n",
      "============= Epoch 14/30 in stage3 =============\n",
      "pred_loss=0.001455, disc_loss=1.386983, disc_loss_DA=1.385803\n",
      "============= Epoch 15/30 in stage3 =============\n",
      "pred_loss=0.001359, disc_loss=1.387689, disc_loss_DA=1.385966\n",
      "============= Epoch 16/30 in stage3 =============\n",
      "pred_loss=0.001267, disc_loss=1.388261, disc_loss_DA=1.385423\n",
      "============= Epoch 17/30 in stage3 =============\n",
      "pred_loss=0.001262, disc_loss=1.388274, disc_loss_DA=1.385126\n",
      "============= Epoch 18/30 in stage3 =============\n",
      "pred_loss=0.001152, disc_loss=1.387538, disc_loss_DA=1.385216\n",
      "============= Epoch 19/30 in stage3 =============\n",
      "pred_loss=0.001157, disc_loss=1.387712, disc_loss_DA=1.385189\n",
      "============= Epoch 20/30 in stage3 =============\n",
      "pred_loss=0.001079, disc_loss=1.387843, disc_loss_DA=1.385607\n",
      "============= Epoch 21/30 in stage3 =============\n",
      "pred_loss=0.001023, disc_loss=1.387537, disc_loss_DA=1.385363\n",
      "============= Epoch 22/30 in stage3 =============\n",
      "pred_loss=0.001017, disc_loss=1.387125, disc_loss_DA=1.385739\n",
      "============= Epoch 23/30 in stage3 =============\n",
      "pred_loss=0.001065, disc_loss=1.387557, disc_loss_DA=1.385049\n",
      "============= Epoch 24/30 in stage3 =============\n",
      "pred_loss=0.001031, disc_loss=1.387997, disc_loss_DA=1.385541\n",
      "============= Epoch 25/30 in stage3 =============\n",
      "pred_loss=0.000997, disc_loss=1.388113, disc_loss_DA=1.385168\n",
      "============= Epoch 26/30 in stage3 =============\n",
      "pred_loss=0.000968, disc_loss=1.387507, disc_loss_DA=1.385298\n",
      "============= Epoch 27/30 in stage3 =============\n",
      "pred_loss=0.000946, disc_loss=1.387762, disc_loss_DA=1.385747\n",
      "============= Epoch 28/30 in stage3 =============\n",
      "pred_loss=0.000925, disc_loss=1.387597, disc_loss_DA=1.385331\n",
      "============= Epoch 29/30 in stage3 =============\n",
      "pred_loss=0.000914, disc_loss=1.387916, disc_loss_DA=1.385235\n",
      "============= Epoch 30/30 in stage3 =============\n",
      "pred_loss=0.000857, disc_loss=1.388225, disc_loss_DA=1.385102\n"
     ]
    }
   ],
   "source": [
    "model_da = DANN(30, 50, 0.0001)\n",
    "pred_loss, disc_loss, disc_loss_DA = model_da.train(source_data, target_data) "
   ]
  },
  {
   "cell_type": "code",
   "execution_count": 10,
   "id": "a593792d-d7d7-48e3-afe7-09cf4b2a70ea",
   "metadata": {
    "tags": []
   },
   "outputs": [],
   "source": [
    "train_x_sim = [s.tolist() for s in train_x_sim]  \n",
    "train_with_noise_1 = [s.tolist() for s in train_with_noise_1]  \n",
    "train_with_noise_2 = [s.tolist() for s in train_with_noise_2]  \n",
    "test_x_sim = [s.tolist() for s in test_x_sim] \n",
    "train_dataset = TrainCustomDataset(train_x_sim, train_with_noise_1, train_with_noise_2, train_y)\n",
    "test_dataset = TestCustomDataset(test_x_sim, test_y)\n",
    "train_dataloader = DataLoader(train_dataset, batch_size=64, shuffle=True)\n",
    "test_dataloader = DataLoader(test_dataset, batch_size=64, shuffle=False)"
   ]
  },
  {
   "cell_type": "code",
   "execution_count": 11,
   "id": "52ea2ba9-1ab0-4d5d-8ec3-c7bf932f5dd8",
   "metadata": {
    "tags": []
   },
   "outputs": [],
   "source": [
    "model = MBdeconv(num_MB, feat_map_w, feat_map_h, num_cell_type, epoches, Alpha, Beta, train_dataloader, test_dataloader)"
   ]
  },
  {
   "cell_type": "code",
   "execution_count": 12,
   "id": "633054f3-a478-45a2-8c04-64377f342051",
   "metadata": {
    "tags": []
   },
   "outputs": [
    {
     "name": "stdout",
     "output_type": "stream",
     "text": [
      "[3.79s] ep 0, loss 4.1820\n",
      "[85.10s] ep 20, loss 3.1961\n",
      "[168.29s] ep 40, loss 2.9847\n"
     ]
    }
   ],
   "source": [
    "device = torch.device('cuda')\n",
    "if model.gpu_available:\n",
    "    model = model.to(model.gpu)\n",
    "encoder_params = copy.deepcopy(model_da.encoder_da.state_dict())\n",
    "model.encoder.load_state_dict(encoder_params)\n",
    "loss1_list, loss2_list, nce_loss_list = model.train_model(True)"
   ]
  },
  {
   "cell_type": "code",
   "execution_count": 13,
   "id": "b533f810-cd86-465e-b40d-1506aac115ed",
   "metadata": {
    "tags": []
   },
   "outputs": [],
   "source": [
    "model_test = MBdeconv(num_MB, feat_map_w, feat_map_h, num_cell_type, epoches, Alpha, Beta, train_dataloader, test_dataloader)"
   ]
  },
  {
   "cell_type": "code",
   "execution_count": 14,
   "id": "a6824bfe-dbe9-4209-bbbc-fb8c66fe137b",
   "metadata": {
    "tags": []
   },
   "outputs": [],
   "source": [
    "model_test.load_state_dict(torch.load('save_models/3346/last.pt'))\n",
    "device = torch.device(\"cuda\" if torch.cuda.is_available() else \"cpu\")\n",
    "model_test.to(device)\n",
    "model_test.eval()\n",
    "CCC, RMSE, Corr = predict(test_dataloader, type_list, model_test, 'lung_rna', True)"
   ]
  },
  {
   "cell_type": "code",
   "execution_count": 15,
   "id": "82711140-c2a5-40b7-be00-61faee7ce8aa",
   "metadata": {
    "tags": []
   },
   "outputs": [
    {
     "data": {
      "text/plain": [
       "(0.9736062102404472, 0.031155115298747583, 0.9759987603911596)"
      ]
     },
     "execution_count": 15,
     "metadata": {},
     "output_type": "execute_result"
    }
   ],
   "source": [
    "CCC, RMSE, Corr "
   ]
  },
  {
   "cell_type": "code",
   "execution_count": null,
   "id": "8704f689-f955-4541-bf20-58bd4849a2ca",
   "metadata": {},
   "outputs": [],
   "source": []
  }
 ],
 "metadata": {
  "kernelspec": {
   "display_name": "Python 3 (ipykernel)",
   "language": "python",
   "name": "python3"
  },
  "language_info": {
   "codemirror_mode": {
    "name": "ipython",
    "version": 3
   },
   "file_extension": ".py",
   "mimetype": "text/x-python",
   "name": "python",
   "nbconvert_exporter": "python",
   "pygments_lexer": "ipython3",
   "version": "3.8.10"
  }
 },
 "nbformat": 4,
 "nbformat_minor": 5
}
